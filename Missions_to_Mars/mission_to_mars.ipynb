{
 "cells": [
  {
   "cell_type": "code",
   "execution_count": 36,
   "metadata": {},
   "outputs": [],
   "source": [
    "# Dependencies\n",
    "from bs4 import BeautifulSoup as bs\n",
    "from splinter import Browser\n",
    "import requests\n",
    "import pandas as pd"
   ]
  },
  {
   "cell_type": "code",
   "execution_count": 53,
   "metadata": {},
   "outputs": [],
   "source": [
    "executable_path = {'executable_path': 'chromedriver.exe'}\n",
    "browser = Browser('chrome', **executable_path, headless=False)"
   ]
  },
  {
   "cell_type": "markdown",
   "metadata": {},
   "source": [
    "# NASA Mars News"
   ]
  },
  {
   "cell_type": "code",
   "execution_count": null,
   "metadata": {},
   "outputs": [],
   "source": [
    "url = 'https://mars.nasa.gov/news/'\n",
    "browser.visit(url)"
   ]
  },
  {
   "cell_type": "code",
   "execution_count": null,
   "metadata": {},
   "outputs": [],
   "source": [
    "html= browser.html\n",
    "#Parsing HTML\n",
    "soup = bs(html, 'html.parser')"
   ]
  },
  {
   "cell_type": "code",
   "execution_count": null,
   "metadata": {},
   "outputs": [],
   "source": [
    "print(soup.prettify())"
   ]
  },
  {
   "cell_type": "code",
   "execution_count": null,
   "metadata": {},
   "outputs": [],
   "source": [
    "soup.find_all('title')"
   ]
  },
  {
   "cell_type": "code",
   "execution_count": null,
   "metadata": {},
   "outputs": [],
   "source": [
    "soup.title.text.strip()"
   ]
  },
  {
   "cell_type": "code",
   "execution_count": null,
   "metadata": {},
   "outputs": [],
   "source": [
    "news_title = soup.title.text.strip()"
   ]
  },
  {
   "cell_type": "code",
   "execution_count": null,
   "metadata": {},
   "outputs": [],
   "source": [
    "soup.body.find_all('p')"
   ]
  },
  {
   "cell_type": "code",
   "execution_count": null,
   "metadata": {},
   "outputs": [],
   "source": [
    "soup.body.find_all('p')[0]"
   ]
  },
  {
   "cell_type": "code",
   "execution_count": null,
   "metadata": {},
   "outputs": [],
   "source": [
    "soup.body.find('p').text"
   ]
  },
  {
   "cell_type": "code",
   "execution_count": null,
   "metadata": {},
   "outputs": [],
   "source": [
    "news_p = soup.body.find('p').text"
   ]
  },
  {
   "cell_type": "markdown",
   "metadata": {},
   "source": [
    "# JPL Mars Space Images - Featured Image"
   ]
  },
  {
   "cell_type": "code",
   "execution_count": null,
   "metadata": {},
   "outputs": [],
   "source": [
    "url2 = 'https://www.jpl.nasa.gov/spaceimages/?search=&category=Mars'\n",
    "browser.visit(url2)"
   ]
  },
  {
   "cell_type": "code",
   "execution_count": null,
   "metadata": {},
   "outputs": [],
   "source": [
    "html2 = browser.html\n",
    "image_soup = bs(html2, 'html.parser')"
   ]
  },
  {
   "cell_type": "code",
   "execution_count": null,
   "metadata": {},
   "outputs": [],
   "source": [
    "print(image_soup.prettify())"
   ]
  },
  {
   "cell_type": "code",
   "execution_count": null,
   "metadata": {},
   "outputs": [],
   "source": [
    "image_soup.find_all('img')"
   ]
  },
  {
   "cell_type": "code",
   "execution_count": null,
   "metadata": {},
   "outputs": [],
   "source": [
    "start_url = requests.get('https://www.jpl.nasa.gov/spaceimages/?search=&category=Mars')\n",
    "three_soup = bs(html2, 'html.parser')\n",
    "image_url = three_soup.find('div', class_='carousel_items').article\n",
    "print(image_url)\n",
    "\n"
   ]
  },
  {
   "cell_type": "code",
   "execution_count": null,
   "metadata": {},
   "outputs": [],
   "source": [
    "footer = image_url.find('footer')\n",
    "ref = footer.find('a')\n",
    "path = ref['data-fancybox-href']\n",
    "print(path)\n"
   ]
  },
  {
   "cell_type": "code",
   "execution_count": null,
   "metadata": {},
   "outputs": [],
   "source": [
    "featured_image_url = f'https://www.jpl.nasa.gov{path}'\n",
    "print(featured_image_url)"
   ]
  },
  {
   "cell_type": "markdown",
   "metadata": {},
   "source": [
    "# Mars Weather"
   ]
  },
  {
   "cell_type": "code",
   "execution_count": null,
   "metadata": {},
   "outputs": [],
   "source": [
    "url3 = 'https://twitter.com/marswxreport?lang=en'\n",
    "browser.visit(url3)"
   ]
  },
  {
   "cell_type": "code",
   "execution_count": null,
   "metadata": {},
   "outputs": [],
   "source": [
    "html3 = browser.html\n",
    "weather_soup = bs(html3, 'html.parser')"
   ]
  },
  {
   "cell_type": "code",
   "execution_count": null,
   "metadata": {},
   "outputs": [],
   "source": [
    "print(weather_soup.prettify())"
   ]
  },
  {
   "cell_type": "code",
   "execution_count": null,
   "metadata": {},
   "outputs": [],
   "source": [
    "latest_tweet = weather_soup.body.find('div','css-901oao r-hkyrab r-1qd0xha r-a023e6 r-16dba41 r-ad9z0x r-bcqeeo r-bnwqim r-qvutc0')\n",
    "\n",
    "mars_weather = latest_tweet.find('span').text.strip()\n",
    "\n",
    "mars_weather\n",
    "        "
   ]
  },
  {
   "cell_type": "code",
   "execution_count": null,
   "metadata": {},
   "outputs": [],
   "source": [
    "recent_tweet = weather_soup.body.find('div','css-1dbjc4n r-9x6qib r-t23y2h r-1phboty r-rs99b7 r-1udh08x')\n",
    "\n",
    "mars_map = recent_tweet.text.strip()\n",
    "\n",
    "mars_map"
   ]
  },
  {
   "cell_type": "markdown",
   "metadata": {},
   "source": [
    "# Mars Facts"
   ]
  },
  {
   "cell_type": "code",
   "execution_count": 3,
   "metadata": {},
   "outputs": [],
   "source": [
    "url4 = 'https://space-facts.com/mars/'\n",
    "browser.visit(url4)\n",
    "html4 = browser.html"
   ]
  },
  {
   "cell_type": "code",
   "execution_count": 4,
   "metadata": {},
   "outputs": [
    {
     "data": {
      "text/plain": [
       "[  Mars - Earth Comparison             Mars            Earth\n",
       " 0               Diameter:         6,779 km        12,742 km\n",
       " 1                   Mass:  6.39 × 10^23 kg  5.97 × 10^24 kg\n",
       " 2                  Moons:                2                1\n",
       " 3      Distance from Sun:   227,943,824 km   149,598,262 km\n",
       " 4         Length of Year:   687 Earth days      365.24 days\n",
       " 5            Temperature:    -153 to 20 °C      -88 to 58°C,\n",
       "                       0                              1\n",
       " 0  Equatorial Diameter:                       6,792 km\n",
       " 1       Polar Diameter:                       6,752 km\n",
       " 2                 Mass:  6.39 × 10^23 kg (0.11 Earths)\n",
       " 3                Moons:            2 (Phobos & Deimos)\n",
       " 4       Orbit Distance:       227,943,824 km (1.38 AU)\n",
       " 5         Orbit Period:           687 days (1.9 years)\n",
       " 6  Surface Temperature:                   -87 to -5 °C\n",
       " 7         First Record:              2nd millennium BC\n",
       " 8          Recorded By:           Egyptian astronomers]"
      ]
     },
     "execution_count": 4,
     "metadata": {},
     "output_type": "execute_result"
    }
   ],
   "source": [
    "tables = pd.read_html(url4)\n",
    "tables"
   ]
  },
  {
   "cell_type": "code",
   "execution_count": 5,
   "metadata": {},
   "outputs": [
    {
     "data": {
      "text/plain": [
       "list"
      ]
     },
     "execution_count": 5,
     "metadata": {},
     "output_type": "execute_result"
    }
   ],
   "source": [
    "type(tables)"
   ]
  },
  {
   "cell_type": "code",
   "execution_count": 6,
   "metadata": {},
   "outputs": [
    {
     "data": {
      "text/html": [
       "<div>\n",
       "<style scoped>\n",
       "    .dataframe tbody tr th:only-of-type {\n",
       "        vertical-align: middle;\n",
       "    }\n",
       "\n",
       "    .dataframe tbody tr th {\n",
       "        vertical-align: top;\n",
       "    }\n",
       "\n",
       "    .dataframe thead th {\n",
       "        text-align: right;\n",
       "    }\n",
       "</style>\n",
       "<table border=\"1\" class=\"dataframe\">\n",
       "  <thead>\n",
       "    <tr style=\"text-align: right;\">\n",
       "      <th></th>\n",
       "      <th>Mars - Earth Comparison</th>\n",
       "      <th>Mars</th>\n",
       "      <th>Earth</th>\n",
       "    </tr>\n",
       "  </thead>\n",
       "  <tbody>\n",
       "    <tr>\n",
       "      <th>0</th>\n",
       "      <td>Diameter:</td>\n",
       "      <td>6,779 km</td>\n",
       "      <td>12,742 km</td>\n",
       "    </tr>\n",
       "    <tr>\n",
       "      <th>1</th>\n",
       "      <td>Mass:</td>\n",
       "      <td>6.39 × 10^23 kg</td>\n",
       "      <td>5.97 × 10^24 kg</td>\n",
       "    </tr>\n",
       "    <tr>\n",
       "      <th>2</th>\n",
       "      <td>Moons:</td>\n",
       "      <td>2</td>\n",
       "      <td>1</td>\n",
       "    </tr>\n",
       "    <tr>\n",
       "      <th>3</th>\n",
       "      <td>Distance from Sun:</td>\n",
       "      <td>227,943,824 km</td>\n",
       "      <td>149,598,262 km</td>\n",
       "    </tr>\n",
       "    <tr>\n",
       "      <th>4</th>\n",
       "      <td>Length of Year:</td>\n",
       "      <td>687 Earth days</td>\n",
       "      <td>365.24 days</td>\n",
       "    </tr>\n",
       "    <tr>\n",
       "      <th>5</th>\n",
       "      <td>Temperature:</td>\n",
       "      <td>-153 to 20 °C</td>\n",
       "      <td>-88 to 58°C</td>\n",
       "    </tr>\n",
       "  </tbody>\n",
       "</table>\n",
       "</div>"
      ],
      "text/plain": [
       "  Mars - Earth Comparison             Mars            Earth\n",
       "0               Diameter:         6,779 km        12,742 km\n",
       "1                   Mass:  6.39 × 10^23 kg  5.97 × 10^24 kg\n",
       "2                  Moons:                2                1\n",
       "3      Distance from Sun:   227,943,824 km   149,598,262 km\n",
       "4         Length of Year:   687 Earth days      365.24 days\n",
       "5            Temperature:    -153 to 20 °C      -88 to 58°C"
      ]
     },
     "execution_count": 6,
     "metadata": {},
     "output_type": "execute_result"
    }
   ],
   "source": [
    "mars_facts= tables[0]\n",
    "mars_facts"
   ]
  },
  {
   "cell_type": "code",
   "execution_count": 7,
   "metadata": {},
   "outputs": [
    {
     "data": {
      "text/html": [
       "<div>\n",
       "<style scoped>\n",
       "    .dataframe tbody tr th:only-of-type {\n",
       "        vertical-align: middle;\n",
       "    }\n",
       "\n",
       "    .dataframe tbody tr th {\n",
       "        vertical-align: top;\n",
       "    }\n",
       "\n",
       "    .dataframe thead th {\n",
       "        text-align: right;\n",
       "    }\n",
       "</style>\n",
       "<table border=\"1\" class=\"dataframe\">\n",
       "  <thead>\n",
       "    <tr style=\"text-align: right;\">\n",
       "      <th></th>\n",
       "      <th>0</th>\n",
       "      <th>1</th>\n",
       "    </tr>\n",
       "  </thead>\n",
       "  <tbody>\n",
       "    <tr>\n",
       "      <th>0</th>\n",
       "      <td>Equatorial Diameter:</td>\n",
       "      <td>6,792 km</td>\n",
       "    </tr>\n",
       "    <tr>\n",
       "      <th>1</th>\n",
       "      <td>Polar Diameter:</td>\n",
       "      <td>6,752 km</td>\n",
       "    </tr>\n",
       "    <tr>\n",
       "      <th>2</th>\n",
       "      <td>Mass:</td>\n",
       "      <td>6.39 × 10^23 kg (0.11 Earths)</td>\n",
       "    </tr>\n",
       "    <tr>\n",
       "      <th>3</th>\n",
       "      <td>Moons:</td>\n",
       "      <td>2 (Phobos &amp; Deimos)</td>\n",
       "    </tr>\n",
       "    <tr>\n",
       "      <th>4</th>\n",
       "      <td>Orbit Distance:</td>\n",
       "      <td>227,943,824 km (1.38 AU)</td>\n",
       "    </tr>\n",
       "    <tr>\n",
       "      <th>5</th>\n",
       "      <td>Orbit Period:</td>\n",
       "      <td>687 days (1.9 years)</td>\n",
       "    </tr>\n",
       "    <tr>\n",
       "      <th>6</th>\n",
       "      <td>Surface Temperature:</td>\n",
       "      <td>-87 to -5 °C</td>\n",
       "    </tr>\n",
       "    <tr>\n",
       "      <th>7</th>\n",
       "      <td>First Record:</td>\n",
       "      <td>2nd millennium BC</td>\n",
       "    </tr>\n",
       "    <tr>\n",
       "      <th>8</th>\n",
       "      <td>Recorded By:</td>\n",
       "      <td>Egyptian astronomers</td>\n",
       "    </tr>\n",
       "  </tbody>\n",
       "</table>\n",
       "</div>"
      ],
      "text/plain": [
       "                      0                              1\n",
       "0  Equatorial Diameter:                       6,792 km\n",
       "1       Polar Diameter:                       6,752 km\n",
       "2                 Mass:  6.39 × 10^23 kg (0.11 Earths)\n",
       "3                Moons:            2 (Phobos & Deimos)\n",
       "4       Orbit Distance:       227,943,824 km (1.38 AU)\n",
       "5         Orbit Period:           687 days (1.9 years)\n",
       "6  Surface Temperature:                   -87 to -5 °C\n",
       "7         First Record:              2nd millennium BC\n",
       "8          Recorded By:           Egyptian astronomers"
      ]
     },
     "execution_count": 7,
     "metadata": {},
     "output_type": "execute_result"
    }
   ],
   "source": [
    "mars_facts = tables[1]\n",
    "mars_facts"
   ]
  },
  {
   "cell_type": "code",
   "execution_count": 9,
   "metadata": {},
   "outputs": [
    {
     "data": {
      "text/html": [
       "<div>\n",
       "<style scoped>\n",
       "    .dataframe tbody tr th:only-of-type {\n",
       "        vertical-align: middle;\n",
       "    }\n",
       "\n",
       "    .dataframe tbody tr th {\n",
       "        vertical-align: top;\n",
       "    }\n",
       "\n",
       "    .dataframe thead th {\n",
       "        text-align: right;\n",
       "    }\n",
       "</style>\n",
       "<table border=\"1\" class=\"dataframe\">\n",
       "  <thead>\n",
       "    <tr style=\"text-align: right;\">\n",
       "      <th></th>\n",
       "      <th>Mars Value</th>\n",
       "    </tr>\n",
       "    <tr>\n",
       "      <th>MARS DESCRIPTION</th>\n",
       "      <th></th>\n",
       "    </tr>\n",
       "  </thead>\n",
       "  <tbody>\n",
       "    <tr>\n",
       "      <th>Equatorial Diameter:</th>\n",
       "      <td>6,792 km</td>\n",
       "    </tr>\n",
       "    <tr>\n",
       "      <th>Polar Diameter:</th>\n",
       "      <td>6,752 km</td>\n",
       "    </tr>\n",
       "    <tr>\n",
       "      <th>Mass:</th>\n",
       "      <td>6.39 × 10^23 kg (0.11 Earths)</td>\n",
       "    </tr>\n",
       "    <tr>\n",
       "      <th>Moons:</th>\n",
       "      <td>2 (Phobos &amp; Deimos)</td>\n",
       "    </tr>\n",
       "    <tr>\n",
       "      <th>Orbit Distance:</th>\n",
       "      <td>227,943,824 km (1.38 AU)</td>\n",
       "    </tr>\n",
       "    <tr>\n",
       "      <th>Orbit Period:</th>\n",
       "      <td>687 days (1.9 years)</td>\n",
       "    </tr>\n",
       "    <tr>\n",
       "      <th>Surface Temperature:</th>\n",
       "      <td>-87 to -5 °C</td>\n",
       "    </tr>\n",
       "    <tr>\n",
       "      <th>First Record:</th>\n",
       "      <td>2nd millennium BC</td>\n",
       "    </tr>\n",
       "    <tr>\n",
       "      <th>Recorded By:</th>\n",
       "      <td>Egyptian astronomers</td>\n",
       "    </tr>\n",
       "  </tbody>\n",
       "</table>\n",
       "</div>"
      ],
      "text/plain": [
       "                                         Mars Value\n",
       "MARS DESCRIPTION                                   \n",
       "Equatorial Diameter:                       6,792 km\n",
       "Polar Diameter:                            6,752 km\n",
       "Mass:                 6.39 × 10^23 kg (0.11 Earths)\n",
       "Moons:                          2 (Phobos & Deimos)\n",
       "Orbit Distance:            227,943,824 km (1.38 AU)\n",
       "Orbit Period:                  687 days (1.9 years)\n",
       "Surface Temperature:                   -87 to -5 °C\n",
       "First Record:                     2nd millennium BC\n",
       "Recorded By:                   Egyptian astronomers"
      ]
     },
     "execution_count": 9,
     "metadata": {},
     "output_type": "execute_result"
    }
   ],
   "source": [
    "mars_facts.columns = ['MARS DESCRIPTION','Mars Value']\n",
    "mars_facts.set_index('MARS DESCRIPTION', inplace=True)\n",
    "mars_facts"
   ]
  },
  {
   "cell_type": "code",
   "execution_count": 10,
   "metadata": {},
   "outputs": [
    {
     "data": {
      "text/plain": [
       "'<table border=\"1\" class=\"dataframe\">\\n  <thead>\\n    <tr style=\"text-align: right;\">\\n      <th></th>\\n      <th>Mars Value</th>\\n    </tr>\\n    <tr>\\n      <th>MARS DESCRIPTION</th>\\n      <th></th>\\n    </tr>\\n  </thead>\\n  <tbody>\\n    <tr>\\n      <th>Equatorial Diameter:</th>\\n      <td>6,792 km</td>\\n    </tr>\\n    <tr>\\n      <th>Polar Diameter:</th>\\n      <td>6,752 km</td>\\n    </tr>\\n    <tr>\\n      <th>Mass:</th>\\n      <td>6.39 × 10^23 kg (0.11 Earths)</td>\\n    </tr>\\n    <tr>\\n      <th>Moons:</th>\\n      <td>2 (Phobos &amp; Deimos)</td>\\n    </tr>\\n    <tr>\\n      <th>Orbit Distance:</th>\\n      <td>227,943,824 km (1.38 AU)</td>\\n    </tr>\\n    <tr>\\n      <th>Orbit Period:</th>\\n      <td>687 days (1.9 years)</td>\\n    </tr>\\n    <tr>\\n      <th>Surface Temperature:</th>\\n      <td>-87 to -5 °C</td>\\n    </tr>\\n    <tr>\\n      <th>First Record:</th>\\n      <td>2nd millennium BC</td>\\n    </tr>\\n    <tr>\\n      <th>Recorded By:</th>\\n      <td>Egyptian astronomers</td>\\n    </tr>\\n  </tbody>\\n</table>'"
      ]
     },
     "execution_count": 10,
     "metadata": {},
     "output_type": "execute_result"
    }
   ],
   "source": [
    "html_table = mars_facts.to_html()\n",
    "html_table"
   ]
  },
  {
   "cell_type": "code",
   "execution_count": 11,
   "metadata": {},
   "outputs": [
    {
     "data": {
      "text/plain": [
       "'<table border=\"1\" class=\"dataframe\">  <thead>    <tr style=\"text-align: right;\">      <th></th>      <th>Mars Value</th>    </tr>    <tr>      <th>MARS DESCRIPTION</th>      <th></th>    </tr>  </thead>  <tbody>    <tr>      <th>Equatorial Diameter:</th>      <td>6,792 km</td>    </tr>    <tr>      <th>Polar Diameter:</th>      <td>6,752 km</td>    </tr>    <tr>      <th>Mass:</th>      <td>6.39 × 10^23 kg (0.11 Earths)</td>    </tr>    <tr>      <th>Moons:</th>      <td>2 (Phobos &amp; Deimos)</td>    </tr>    <tr>      <th>Orbit Distance:</th>      <td>227,943,824 km (1.38 AU)</td>    </tr>    <tr>      <th>Orbit Period:</th>      <td>687 days (1.9 years)</td>    </tr>    <tr>      <th>Surface Temperature:</th>      <td>-87 to -5 °C</td>    </tr>    <tr>      <th>First Record:</th>      <td>2nd millennium BC</td>    </tr>    <tr>      <th>Recorded By:</th>      <td>Egyptian astronomers</td>    </tr>  </tbody></table>'"
      ]
     },
     "execution_count": 11,
     "metadata": {},
     "output_type": "execute_result"
    }
   ],
   "source": [
    "html_table.replace('\\n', '')"
   ]
  },
  {
   "cell_type": "code",
   "execution_count": 12,
   "metadata": {},
   "outputs": [
    {
     "name": "stdout",
     "output_type": "stream",
     "text": [
      "<table border=\"1\" class=\"dataframe\">\n",
      "  <thead>\n",
      "    <tr style=\"text-align: right;\">\n",
      "      <th></th>\n",
      "      <th>Mars Value</th>\n",
      "    </tr>\n",
      "    <tr>\n",
      "      <th>MARS DESCRIPTION</th>\n",
      "      <th></th>\n",
      "    </tr>\n",
      "  </thead>\n",
      "  <tbody>\n",
      "    <tr>\n",
      "      <th>Equatorial Diameter:</th>\n",
      "      <td>6,792 km</td>\n",
      "    </tr>\n",
      "    <tr>\n",
      "      <th>Polar Diameter:</th>\n",
      "      <td>6,752 km</td>\n",
      "    </tr>\n",
      "    <tr>\n",
      "      <th>Mass:</th>\n",
      "      <td>6.39 × 10^23 kg (0.11 Earths)</td>\n",
      "    </tr>\n",
      "    <tr>\n",
      "      <th>Moons:</th>\n",
      "      <td>2 (Phobos &amp; Deimos)</td>\n",
      "    </tr>\n",
      "    <tr>\n",
      "      <th>Orbit Distance:</th>\n",
      "      <td>227,943,824 km (1.38 AU)</td>\n",
      "    </tr>\n",
      "    <tr>\n",
      "      <th>Orbit Period:</th>\n",
      "      <td>687 days (1.9 years)</td>\n",
      "    </tr>\n",
      "    <tr>\n",
      "      <th>Surface Temperature:</th>\n",
      "      <td>-87 to -5 °C</td>\n",
      "    </tr>\n",
      "    <tr>\n",
      "      <th>First Record:</th>\n",
      "      <td>2nd millennium BC</td>\n",
      "    </tr>\n",
      "    <tr>\n",
      "      <th>Recorded By:</th>\n",
      "      <td>Egyptian astronomers</td>\n",
      "    </tr>\n",
      "  </tbody>\n",
      "</table>\n"
     ]
    }
   ],
   "source": [
    "print(html_table)"
   ]
  },
  {
   "cell_type": "code",
   "execution_count": 13,
   "metadata": {},
   "outputs": [],
   "source": [
    "mars_facts.to_html('Mars-table.html')"
   ]
  },
  {
   "cell_type": "markdown",
   "metadata": {},
   "source": [
    "# Mars Hemispheres"
   ]
  },
  {
   "cell_type": "code",
   "execution_count": 16,
   "metadata": {},
   "outputs": [],
   "source": [
    "url5 = 'https://astrogeology.usgs.gov/search/results?q=hemisphere+enhanced&k1=target&v1=Mars'\n",
    "browser.visit(url5)"
   ]
  },
  {
   "cell_type": "code",
   "execution_count": 17,
   "metadata": {},
   "outputs": [],
   "source": [
    "html5 = browser.html\n",
    "Hemis_soup = bs(html5, 'html.parser')"
   ]
  },
  {
   "cell_type": "code",
   "execution_count": 19,
   "metadata": {},
   "outputs": [
    {
     "name": "stdout",
     "output_type": "stream",
     "text": [
      "<html lang=\"en\">\n",
      " <head>\n",
      "  <link href=\"//ajax.googleapis.com/ajax/libs/jqueryui/1.11.3/themes/smoothness/jquery-ui.css\" rel=\"stylesheet\" type=\"text/css\"/>\n",
      "  <title>\n",
      "   Astropedia Search Results | USGS Astrogeology Science Center\n",
      "  </title>\n",
      "  <meta content=\"USGS Astrogeology Science Center Astropedia search results.\" name=\"description\"/>\n",
      "  <meta content=\"USGS,Astrogeology Science Center,Cartography,Geology,Space,Geological Survey,Mapping\" name=\"keywords\"/>\n",
      "  <meta content=\"IE=edge\" http-equiv=\"X-UA-Compatible\"/>\n",
      "  <meta content=\"text/html; charset=utf-8\" http-equiv=\"Content-Type\"/>\n",
      "  <meta content=\"width=device-width, initial-scale=1, maximum-scale=1\" name=\"viewport\"/>\n",
      "  <meta content=\"x61hXXVj7wtfBSNOPnTftajMsZ5yB2W-qRoyr7GtOKM\" name=\"google-site-verification\"/>\n",
      "  <!--<link rel=\"stylesheet\" href=\"http://fonts.googleapis.com/css?family=Open+Sans:400italic,400,bold\"/>-->\n",
      "  <link href=\"/css/main.css\" media=\"screen\" rel=\"stylesheet\"/>\n",
      "  <link href=\"/css/print.css\" media=\"print\" rel=\"stylesheet\"/>\n",
      "  <!--[if lt IE 9]>\n",
      "\t\t\t<script src=\"http://html5shiv.googlecode.com/svn/trunk/html5.js\"></script>\n",
      "\t\t\t<script src=\"/js/respond.min.js\"></script>\n",
      "\t\t\t<link rel=\"stylesheet\" type=\"text/css\" href=\"/css/ie.css\"/>\n",
      "                        <script>\n",
      "                          document.createElement('header');\n",
      "                          document.createElement('nav');\n",
      "                          document.createElement('section');\n",
      "                          document.createElement('article');\n",
      "                          document.createElement('aside');\n",
      "                          document.createElement('footer');\n",
      "                          document.createElement('hgroup');\n",
      "                        </script>\n",
      "                  <![endif]-->\n",
      "  <link href=\"/favicon.ico\" rel=\"icon\" type=\"image/x-ico\"/>\n",
      " </head>\n",
      " <body id=\"results\">\n",
      "  <header>\n",
      "   <!--\n",
      "\t\t\t<h1>Astrogeology Science Center</h1>\n",
      "-->\n",
      "   <a href=\"https://www.usgs.gov/centers/astrogeo-sc\" style=\"float:right;margin-top:10px;\">\n",
      "    <img alt=\"USGS: Science for a Changing World\" class=\"logo\" height=\"60\" src=\"/images/usgs_logo_main_2x.png\"/>\n",
      "   </a>\n",
      "   <a href=\"https://nasa.gov\" style=\"float:right;margin-top:5px;margin-right:20px;\">\n",
      "    <img alt=\"NASA\" class=\"logo\" height=\"65\" src=\"/images/logos/nasa-logo-web-med.png\"/>\n",
      "   </a>\n",
      "   <a href=\"https://pds-imaging.jpl.nasa.gov/\" style=\"float:right;margin-top:5px;margin-right: 10px;\">\n",
      "    <img alt=\"PDS Cartography and Imaging Science Node\" class=\"logo\" height=\"65\" src=\"/images/pds_logo-invisible-web.png\"/>\n",
      "   </a>\n",
      "  </header>\n",
      "  <div class=\"wrapper\">\n",
      "   <!--\n",
      "\t\t\t<nav>\n",
      "\t\t\t\t<a id=\"nav-toggle\" href=\"#\" title=\"Navigation Menu\">Menu</a>\n",
      "<ul class=\"dropdown dropdown-horizontal\" id=\"yw0\">\n",
      "<li><a href=\"/\">Home</a></li>\n",
      "<li><a href=\"/about\">About</a>\n",
      "<ul>\n",
      "<li><a href=\"/about/careers\">Careers</a></li>\n",
      "<li><a href=\"/contact\">Contact</a></li>\n",
      "<li><a href=\"/about/events\">Events</a></li>\n",
      "<li><a href=\"/site/glossary\">Glossary</a></li>\n",
      "<li><a href=\"/about/mission\">Mission</a></li>\n",
      "<li><a href=\"/news\">News</a></li>\n",
      "<li><a href=\"/people\">People</a></li>\n",
      "<li><a href=\"/about/using-our-images\">Using Our Images</a></li>\n",
      "<li><a href=\"/about/visitors\">Visitors</a></li>\n",
      "</ul>\n",
      "</li>\n",
      "<li><a href=\"/facilities\">Labs / Facilities</a>\n",
      "<ul>\n",
      "<li><a href=\"/facilities/flynn-creek-crater-sample-collection\">Flynn Creek Crater Sample Collection</a></li>\n",
      "<li><a href=\"http://www.moon-cal.org\">Lunar Calibration Project</a></li>\n",
      "<li><a href=\"/facilities/meteor-crater-sample-collection\">Meteor Crater Sample Collection</a></li>\n",
      "<li><a href=\"/facilities/mrctr\">MRCTR GIS Lab</a></li>\n",
      "<li><a href=\"/facilities/cartography-and-imaging-sciences-node-of-nasa-planetary-data-system\">PDS Cartography and Imaging Sciences Node</a></li>\n",
      "<li><a href=\"/pds/annex\">PDS IMG Annex</a></li>\n",
      "<li><a href=\"/facilities/photogrammetry-guest-facility\">Photogrammetry Guest Facility</a></li>\n",
      "<li><a href=\"/rpif\">Regional Planetary Information Facility (RPIF)</a></li>\n",
      "</ul>\n",
      "</li>\n",
      "<li><a href=\"/maps\">Maps / Products</a>\n",
      "<ul>\n",
      "<li><a href=\"/search\">Product Search</a></li>\n",
      "<li><a href=\"http://planetarynames.wr.usgs.gov\">Gazetteer of Planetary Nomenclature</a></li>\n",
      "<li><a href=\"http://planetarymapping.wr.usgs.gov\">Geologic Mapping Program</a></li>\n",
      "<li><a href=\"http://pilot.wr.usgs.gov\">Planetary Image Locator Tool (PILOT)</a></li>\n",
      "<li><a href=\"/search/planetary-index\">Planetary Map Index</a></li>\n",
      "</ul>\n",
      "</li>\n",
      "<li><a href=\"/geology\">Missions / Research</a>\n",
      "<ul>\n",
      "<li><a href=\"/geology/mars-dunes\">Mars Dunes</a></li>\n",
      "<li><a href=\"/geology/mars-ice\">Mars Ice</a></li>\n",
      "<li><a href=\"/missions\">Mission Support</a></li>\n",
      "<li><a href=\"/solar-system\">Solar System</a></li>\n",
      "<li><a href=\"/groups\">Working Groups</a></li>\n",
      "</ul>\n",
      "</li>\n",
      "<li><a href=\"/tools\">Tools</a>\n",
      "<ul>\n",
      "<li><a href=\"http://planetarynames.wr.usgs.gov\">Gazetteer of Planetary Nomenclature</a></li>\n",
      "<li><a href=\"http://isis.astrogeology.usgs.gov\">Integrated Software for Imagers and Spectrometers (ISIS)</a></li>\n",
      "<li><a href=\"http://astrogeology.usgs.gov/tools/map-a-planet-2\">Map a Planet 2</a></li>\n",
      "<li><a href=\"http://pilot.wr.usgs.gov\">Planetary Image Locator Tool (PILOT)</a></li>\n",
      "<li><a href=\"http://astrocloud.wr.usgs.gov/\">Projection on the Web (POW)</a></li>\n",
      "</ul>\n",
      "</li>\n",
      "</ul>\t\t\t\t<form id=\"search\" class=\"search\" action=\"/search/results\" method=\"get\">\n",
      "\t\t\t\t\t<input type=\"submit\" value=\"\" title=\"Search Astropedia\"/>\n",
      "\t\t\t\t\t<input type=\"text\" placeholder=\"Search\" name=\"q\"/>\n",
      "\t\t\t\t</form>\n",
      "\t\t\t</nav>\n",
      "-->\n",
      "   <div class=\"container\">\n",
      "    <div class=\"widget block bar\">\n",
      "     <a href=\"/search\" style=\"float:right;text-decoration:none;\">\n",
      "      <img alt=\"Astropedia\" src=\"/images/astropedia/astropedia-logo-main.png\" style=\"width:200px;border:none;float:right;\"/>\n",
      "      <div style=\"clear:both;font-size:.8em;float:right;color:#888;\">\n",
      "       Lunar and Planetary Cartographic Catalog\n",
      "      </div>\n",
      "     </a>\n",
      "     <div style=\"float:left;height:60px;\">\n",
      "     </div>\n",
      "    </div>\n",
      "    <form action=\"/search/results\" class=\"bar widget block\" id=\"search-bar\">\n",
      "     <input name=\"q\" type=\"hidden\" value=\"hemisphere-enhanced\"/>\n",
      "     <input name=\"target\" type=\"hidden\" value=\"Mars\"/>\n",
      "     <input name=\"__ncforminfo\" type=\"hidden\" value=\"nGbZWjfRrWFrjBsSWRrICLASaHGcGENmet2CZBxzxLypHUJmciv2nXObpcWs6Qy4eJgVCh3X6nwZDDERyo8h7sj-mjwn7oEVP7QLbFL1AkYGgK5UnnKjqA==\"/>\n",
      "    </form>\n",
      "    <div class=\"full-content\">\n",
      "     <section class=\"block\" id=\"results-accordian\">\n",
      "      <div class=\"result-list\" data-section=\"product\" id=\"product-section\">\n",
      "       <div class=\"accordian\">\n",
      "        <h2>\n",
      "         Products\n",
      "        </h2>\n",
      "        <span class=\"count\">\n",
      "         4 Results\n",
      "        </span>\n",
      "        <span class=\"collapse\">\n",
      "         Collapse\n",
      "        </span>\n",
      "       </div>\n",
      "       <div class=\"collapsible results\">\n",
      "        <div class=\"item\">\n",
      "         <a class=\"itemLink product-item\" href=\"/search/map/Mars/Viking/cerberus_enhanced\">\n",
      "          <img alt=\"Cerberus Hemisphere Enhanced thumbnail\" class=\"thumb\" src=\"/cache/images/dfaf3849e74bf973b59eb50dab52b583_cerberus_enhanced.tif_thumb.png\"/>\n",
      "         </a>\n",
      "         <div class=\"description\">\n",
      "          <a class=\"itemLink product-item\" href=\"/search/map/Mars/Viking/cerberus_enhanced\">\n",
      "           <h3>\n",
      "            Cerberus Hemisphere Enhanced\n",
      "           </h3>\n",
      "          </a>\n",
      "          <span class=\"subtitle\" style=\"float:left\">\n",
      "           image/tiff 21 MB\n",
      "          </span>\n",
      "          <span class=\"pubDate\" style=\"float:right\">\n",
      "          </span>\n",
      "          <br/>\n",
      "          <p>\n",
      "           Mosaic of the Cerberus hemisphere of Mars projected into point perspective, a view similar to that which one would see from a spacecraft. This mosaic is composed of 104 Viking Orbiter images acquired…\n",
      "          </p>\n",
      "         </div>\n",
      "         <!-- end description -->\n",
      "        </div>\n",
      "        <div class=\"item\">\n",
      "         <a class=\"itemLink product-item\" href=\"/search/map/Mars/Viking/schiaparelli_enhanced\">\n",
      "          <img alt=\"Schiaparelli Hemisphere Enhanced thumbnail\" class=\"thumb\" src=\"/cache/images/7677c0a006b83871b5a2f66985ab5857_schiaparelli_enhanced.tif_thumb.png\"/>\n",
      "         </a>\n",
      "         <div class=\"description\">\n",
      "          <a class=\"itemLink product-item\" href=\"/search/map/Mars/Viking/schiaparelli_enhanced\">\n",
      "           <h3>\n",
      "            Schiaparelli Hemisphere Enhanced\n",
      "           </h3>\n",
      "          </a>\n",
      "          <span class=\"subtitle\" style=\"float:left\">\n",
      "           image/tiff 35 MB\n",
      "          </span>\n",
      "          <span class=\"pubDate\" style=\"float:right\">\n",
      "          </span>\n",
      "          <br/>\n",
      "          <p>\n",
      "           Mosaic of the Schiaparelli hemisphere of Mars projected into point perspective, a view similar to that which one would see from a spacecraft. The images were acquired in 1980 during early northern…\n",
      "          </p>\n",
      "         </div>\n",
      "         <!-- end description -->\n",
      "        </div>\n",
      "        <div class=\"item\">\n",
      "         <a class=\"itemLink product-item\" href=\"/search/map/Mars/Viking/syrtis_major_enhanced\">\n",
      "          <img alt=\"Syrtis Major Hemisphere Enhanced thumbnail\" class=\"thumb\" src=\"/cache/images/aae41197e40d6d4f3ea557f8cfe51d15_syrtis_major_enhanced.tif_thumb.png\"/>\n",
      "         </a>\n",
      "         <div class=\"description\">\n",
      "          <a class=\"itemLink product-item\" href=\"/search/map/Mars/Viking/syrtis_major_enhanced\">\n",
      "           <h3>\n",
      "            Syrtis Major Hemisphere Enhanced\n",
      "           </h3>\n",
      "          </a>\n",
      "          <span class=\"subtitle\" style=\"float:left\">\n",
      "           image/tiff 25 MB\n",
      "          </span>\n",
      "          <span class=\"pubDate\" style=\"float:right\">\n",
      "          </span>\n",
      "          <br/>\n",
      "          <p>\n",
      "           Mosaic of the Syrtis Major hemisphere of Mars projected into point perspective, a view similar to that which one would see from a spacecraft. This mosaic is composed of about 100 red and violet…\n",
      "          </p>\n",
      "         </div>\n",
      "         <!-- end description -->\n",
      "        </div>\n",
      "        <div class=\"item\">\n",
      "         <a class=\"itemLink product-item\" href=\"/search/map/Mars/Viking/valles_marineris_enhanced\">\n",
      "          <img alt=\"Valles Marineris Hemisphere Enhanced thumbnail\" class=\"thumb\" src=\"/cache/images/04085d99ec3713883a9a57f42be9c725_valles_marineris_enhanced.tif_thumb.png\"/>\n",
      "         </a>\n",
      "         <div class=\"description\">\n",
      "          <a class=\"itemLink product-item\" href=\"/search/map/Mars/Viking/valles_marineris_enhanced\">\n",
      "           <h3>\n",
      "            Valles Marineris Hemisphere Enhanced\n",
      "           </h3>\n",
      "          </a>\n",
      "          <span class=\"subtitle\" style=\"float:left\">\n",
      "           image/tiff 27 MB\n",
      "          </span>\n",
      "          <span class=\"pubDate\" style=\"float:right\">\n",
      "          </span>\n",
      "          <br/>\n",
      "          <p>\n",
      "           Mosaic of the Valles Marineris hemisphere of Mars projected into point perspective, a view similar to that which one would see from a spacecraft. The distance is 2500 kilometers from the surface of…\n",
      "          </p>\n",
      "         </div>\n",
      "         <!-- end description -->\n",
      "        </div>\n",
      "        <script>\n",
      "         addBases=[];;if(typeof resetLayerSwitcher===\"function\"){resetLayerSwitcher(false)};var productTotal = 4;\n",
      "        </script>\n",
      "       </div>\n",
      "       <!-- end this-section -->\n",
      "      </div>\n",
      "     </section>\n",
      "    </div>\n",
      "   </div>\n",
      "   <div class=\"icons projects black scroll-wrapper\">\n",
      "    <div class=\"scroll\">\n",
      "     <a class=\"icon\" href=\"http://isis.astrogeology.usgs.gov\" title=\"Integrated Software for Imagers and Spectrometers\">\n",
      "      <img alt=\"ISIS Logo\" height=\"112\" src=\"/images/logos/isis_2x.jpg\" width=\"112\"/>\n",
      "      <span class=\"label\">\n",
      "       ISIS\n",
      "      </span>\n",
      "     </a>\n",
      "     <a class=\"icon\" href=\"http://planetarynames.wr.usgs.gov\" title=\"Gazetteer of Planetary Nomenclature\">\n",
      "      <img alt=\"Nomenclature Logo\" height=\"112\" src=\"/images/logos/nomenclature_2x.jpg\" width=\"112\"/>\n",
      "      <span class=\"label\">\n",
      "       Planetary Nomenclature\n",
      "      </span>\n",
      "     </a>\n",
      "     <a class=\"icon\" href=\"https://astrogeology.usgs.gov/tools/map-a-planet-2\" title=\"Map a Planet 2\">\n",
      "      <img alt=\"Map-a-Planet Logo\" height=\"112\" src=\"/images/logos/map_a_planet_2x.jpg\" width=\"112\"/>\n",
      "      <span class=\"label\">\n",
      "       Map a Planet 2\n",
      "      </span>\n",
      "     </a>\n",
      "     <a class=\"icon\" href=\"https://www.usgs.gov/centers/astrogeo-sc/science/cartography-and-imaging-sciences-node-nasa-planetary-data-system\" title=\"PDS Cartography and Imaging Science Node\">\n",
      "      <img alt=\"PDS Logo\" height=\"112\" src=\"/images/pds_logo-black-web.png\"/>\n",
      "      <span class=\"label\">\n",
      "       PDS Cartography and Imaging Science Node\n",
      "      </span>\n",
      "     </a>\n",
      "     <!--\n",
      "\t\t\t\t\t\t<a title=\"Astropedia Search\" href=\"/search\" class=\"icon\">\n",
      "\t\t\t\t\t\t\t<img alt=\"Astropedia Logo\" height=\"112\" width=\"112\" src=\"/images/logos/astropedia_2x.jpg\"/>\n",
      "\t\t\t\t\t\t\t<span class=\"label\">Astropedia</span>\n",
      "\t\t\t\t\t\t</a>\n",
      "-->\n",
      "     <a class=\"icon\" href=\"https://www.usgs.gov/centers/astrogeo-sc/science/regional-planetary-image-facility-rpif\" title=\"Regional Planetary Image Facility\">\n",
      "      <img alt=\"RPIF Logo\" height=\"112\" src=\"/images/logos/rpif_2x.jpg\" width=\"112\"/>\n",
      "      <span class=\"label\">\n",
      "       RPIF\n",
      "      </span>\n",
      "     </a>\n",
      "     <a class=\"icon\" href=\"\" title=\"Photogrammetry Guest Facility\">\n",
      "      <img alt=\"Photogrammetry Guest Faciltiy Logo\" height=\"112\" src=\"/images/logos/photogrammetry_2x.jpg\" width=\"112\"/>\n",
      "      <span class=\"label\">\n",
      "       Photogrammetry Guest Facility\n",
      "      </span>\n",
      "     </a>\n",
      "     <a class=\"icon\" href=\"http://pilot.wr.usgs.gov\" title=\"Planetary Image Locator Tool\">\n",
      "      <img alt=\"Pilot Logo\" height=\"112\" src=\"/images/logos/pilot_2x.jpg\" width=\"112\"/>\n",
      "      <span class=\"label\">\n",
      "       PILOT\n",
      "      </span>\n",
      "     </a>\n",
      "     <a class=\"icon\" href=\"https://www.usgs.gov/centers/astrogeo-sc/science/mrctr-gis-lab\" title=\"Mapping, Remote-sensing, Cartography, Technology and Research GIS Lab\">\n",
      "      <img alt=\"MRCTR GIS Lab Logo\" height=\"112\" src=\"/images/logos/mrctr_man_2x.png\" width=\"112\"/>\n",
      "      <span class=\"label\">\n",
      "       MRCTR GIS Lab\n",
      "      </span>\n",
      "     </a>\n",
      "    </div>\n",
      "   </div>\n",
      "   <footer>\n",
      "    <div class=\"left\">\n",
      "     <a href=\"http://astrogeology.usgs.gov/search\">\n",
      "      Search\n",
      "     </a>\n",
      "     |\n",
      "     <a href=\"http://astrogeology.usgs.gov/maps/about\">\n",
      "      About\n",
      "     </a>\n",
      "     |\n",
      "     <a href=\"http://astrogeology.usgs.gov/maps/contact\">\n",
      "      Contact\n",
      "     </a>\n",
      "    </div>\n",
      "    <div class=\"right\">\n",
      "     <a href=\"https://www.usgs.gov/centers/astrogeo-sc\">\n",
      "      USGS Astrogeology Science Center\n",
      "     </a>\n",
      "    </div>\n",
      "   </footer>\n",
      "  </div>\n",
      "  <!--\n",
      "\t\t<div class=\"credit\">\n",
      "\t\t\t<small>Background Credits: NASA/USGS</small>\n",
      "\t\t</div>\n",
      "-->\n",
      "  <div class=\"page-background\" style=\"\n",
      "\t\t\tbackground:url('/images/backgrounds/mars.jpg');\n",
      "\t\t\tfilter:progid:DXImageTransform.Microsoft.AlphaImageLoader(\n",
      "\t\t\t\tsrc='/images/backgrounds/mars.jpg', sizingMethod='scale');\n",
      "\t\t\">\n",
      "  </div>\n",
      "  <script type=\"text/javascript\">\n",
      "   var baseUrl = \"\";\n",
      "\n",
      "/*\n",
      "var _gaq = _gaq || [];_gaq.push(['_setAccount', 'UA-27613186-1']);_gaq.push(['_trackPageview']);(function() { var ga = document.createElement('script'); ga.type = 'text/javascript'; ga.async = true;ga.src = ('https:' == document.location.protocol ? 'https://ssl' : 'http://www') + '.google-analytics.com/ga.js'; var s = document.getElementsByTagName('script')[0]; s.parentNode.insertBefore(ga, s);})();\n",
      "*/\n",
      "  </script>\n",
      "  <script src=\"https://ajax.googleapis.com/ajax/libs/jquery/1.11.1/jquery.min.js\" type=\"text/javascript\">\n",
      "  </script>\n",
      "  <script src=\"//ajax.googleapis.com/ajax/libs/jqueryui/1.11.3/jquery-ui.min.js\" type=\"text/javascript\">\n",
      "  </script>\n",
      "  <script src=\"/js/general.js\" type=\"text/javascript\">\n",
      "  </script>\n",
      " </body>\n",
      "</html>\n"
     ]
    }
   ],
   "source": [
    "print(Hemis_soup.prettify())"
   ]
  },
  {
   "cell_type": "code",
   "execution_count": 18,
   "metadata": {},
   "outputs": [
    {
     "data": {
      "text/plain": [
       "[<div class=\"result-list\" data-section=\"product\" id=\"product-section\">\n",
       " <div class=\"accordian\">\n",
       " <h2>Products</h2>\n",
       " <span class=\"count\">4 Results</span>\n",
       " <span class=\"collapse\">Collapse</span>\n",
       " </div>\n",
       " <div class=\"collapsible results\">\n",
       " <div class=\"item\"><a class=\"itemLink product-item\" href=\"/search/map/Mars/Viking/cerberus_enhanced\"><img alt=\"Cerberus Hemisphere Enhanced thumbnail\" class=\"thumb\" src=\"/cache/images/dfaf3849e74bf973b59eb50dab52b583_cerberus_enhanced.tif_thumb.png\"/></a><div class=\"description\"><a class=\"itemLink product-item\" href=\"/search/map/Mars/Viking/cerberus_enhanced\"><h3>Cerberus Hemisphere Enhanced</h3></a><span class=\"subtitle\" style=\"float:left\">image/tiff 21 MB</span><span class=\"pubDate\" style=\"float:right\"></span><br/><p>Mosaic of the Cerberus hemisphere of Mars projected into point perspective, a view similar to that which one would see from a spacecraft. This mosaic is composed of 104 Viking Orbiter images acquired…</p></div> <!-- end description --></div><div class=\"item\"><a class=\"itemLink product-item\" href=\"/search/map/Mars/Viking/schiaparelli_enhanced\"><img alt=\"Schiaparelli Hemisphere Enhanced thumbnail\" class=\"thumb\" src=\"/cache/images/7677c0a006b83871b5a2f66985ab5857_schiaparelli_enhanced.tif_thumb.png\"/></a><div class=\"description\"><a class=\"itemLink product-item\" href=\"/search/map/Mars/Viking/schiaparelli_enhanced\"><h3>Schiaparelli Hemisphere Enhanced</h3></a><span class=\"subtitle\" style=\"float:left\">image/tiff 35 MB</span><span class=\"pubDate\" style=\"float:right\"></span><br/><p>Mosaic of the Schiaparelli hemisphere of Mars projected into point perspective, a view similar to that which one would see from a spacecraft. The images were acquired in 1980 during early northern…</p></div> <!-- end description --></div><div class=\"item\"><a class=\"itemLink product-item\" href=\"/search/map/Mars/Viking/syrtis_major_enhanced\"><img alt=\"Syrtis Major Hemisphere Enhanced thumbnail\" class=\"thumb\" src=\"/cache/images/aae41197e40d6d4f3ea557f8cfe51d15_syrtis_major_enhanced.tif_thumb.png\"/></a><div class=\"description\"><a class=\"itemLink product-item\" href=\"/search/map/Mars/Viking/syrtis_major_enhanced\"><h3>Syrtis Major Hemisphere Enhanced</h3></a><span class=\"subtitle\" style=\"float:left\">image/tiff 25 MB</span><span class=\"pubDate\" style=\"float:right\"></span><br/><p>Mosaic of the Syrtis Major hemisphere of Mars projected into point perspective, a view similar to that which one would see from a spacecraft. This mosaic is composed of about 100 red and violet…</p></div> <!-- end description --></div><div class=\"item\"><a class=\"itemLink product-item\" href=\"/search/map/Mars/Viking/valles_marineris_enhanced\"><img alt=\"Valles Marineris Hemisphere Enhanced thumbnail\" class=\"thumb\" src=\"/cache/images/04085d99ec3713883a9a57f42be9c725_valles_marineris_enhanced.tif_thumb.png\"/></a><div class=\"description\"><a class=\"itemLink product-item\" href=\"/search/map/Mars/Viking/valles_marineris_enhanced\"><h3>Valles Marineris Hemisphere Enhanced</h3></a><span class=\"subtitle\" style=\"float:left\">image/tiff 27 MB</span><span class=\"pubDate\" style=\"float:right\"></span><br/><p>Mosaic of the Valles Marineris hemisphere of Mars projected into point perspective, a view similar to that which one would see from a spacecraft. The distance is 2500 kilometers from the surface of…</p></div> <!-- end description --></div><script>addBases=[];;if(typeof resetLayerSwitcher===\"function\"){resetLayerSwitcher(false)};var productTotal = 4;</script>\n",
       " </div> <!-- end this-section -->\n",
       " </div>]"
      ]
     },
     "execution_count": 18,
     "metadata": {},
     "output_type": "execute_result"
    }
   ],
   "source": [
    "Hemis_soup.find_all('div', class_='result-list')"
   ]
  },
  {
   "cell_type": "markdown",
   "metadata": {},
   "source": [
    "### Cerebrus Hemisphere"
   ]
  },
  {
   "cell_type": "code",
   "execution_count": 38,
   "metadata": {},
   "outputs": [],
   "source": [
    "cerebrus_main_url = 'https://astrogeology.usgs.gov/search/map/Mars/Viking/cerberus_enhanced'\n",
    "browser.visit(cerebrus_main_url)"
   ]
  },
  {
   "cell_type": "code",
   "execution_count": 39,
   "metadata": {},
   "outputs": [],
   "source": [
    "htmlcerebrus = browser.html\n",
    "cerebrus_soup = bs(htmlcerebrus, 'html.parser')"
   ]
  },
  {
   "cell_type": "code",
   "execution_count": 42,
   "metadata": {},
   "outputs": [
    {
     "name": "stdout",
     "output_type": "stream",
     "text": [
      "http://astropedia.astrogeology.usgs.gov/download/Mars/Viking/cerberus_enhanced.tif/full.jpg\n"
     ]
    }
   ],
   "source": [
    "cerebrus_url = cerebrus_soup.find('div', class_='downloads')\n",
    "cerebrus_link = cerebrus_url.find('a')\n",
    "cerebrus_image = cerebrus_link['href']\n",
    "\n",
    "print(cerebrus_image)"
   ]
  },
  {
   "cell_type": "markdown",
   "metadata": {},
   "source": [
    "### Schiaparelli Hemisphere"
   ]
  },
  {
   "cell_type": "code",
   "execution_count": 45,
   "metadata": {},
   "outputs": [],
   "source": [
    "schiaparelli_main_url = 'https://astrogeology.usgs.gov/search/map/Mars/Viking/schiaparelli_enhanced'\n",
    "browser.visit(schiaparelli_main_url)"
   ]
  },
  {
   "cell_type": "code",
   "execution_count": 46,
   "metadata": {},
   "outputs": [],
   "source": [
    "htmlschiaparelli = browser.html\n",
    "schiaparelli_soup = bs(htmlschiaparelli, 'html.parser')"
   ]
  },
  {
   "cell_type": "code",
   "execution_count": 47,
   "metadata": {},
   "outputs": [
    {
     "name": "stdout",
     "output_type": "stream",
     "text": [
      "http://astropedia.astrogeology.usgs.gov/download/Mars/Viking/schiaparelli_enhanced.tif/full.jpg\n"
     ]
    }
   ],
   "source": [
    "schiaparelli_url = schiaparelli_soup.find('div', class_='downloads')\n",
    "schiaparelli_link = schiaparelli_url.find('a')\n",
    "schiaparelli_image = schiaparelli_link['href']\n",
    "\n",
    "print(schiaparelli_image)"
   ]
  },
  {
   "cell_type": "markdown",
   "metadata": {},
   "source": [
    "### Syrtis Major Hemisphere"
   ]
  },
  {
   "cell_type": "code",
   "execution_count": 50,
   "metadata": {},
   "outputs": [],
   "source": [
    "syrtis_main_url = 'https://astrogeology.usgs.gov/search/map/Mars/Viking/syrtis_major_enhanced'\n",
    "browser.visit(syrtis_main_url)"
   ]
  },
  {
   "cell_type": "code",
   "execution_count": 51,
   "metadata": {},
   "outputs": [],
   "source": [
    "htmlsyrtis = browser.html\n",
    "syrtis_soup = bs(htmlsyrtis, 'html.parser')"
   ]
  },
  {
   "cell_type": "code",
   "execution_count": 52,
   "metadata": {},
   "outputs": [
    {
     "name": "stdout",
     "output_type": "stream",
     "text": [
      "http://astropedia.astrogeology.usgs.gov/download/Mars/Viking/syrtis_major_enhanced.tif/full.jpg\n"
     ]
    }
   ],
   "source": [
    "syrtis_url = syrtis_soup.find('div', class_='downloads')\n",
    "syrtis_link = syrtis_url.find('a')\n",
    "syrtis_image = syrtis_link['href']\n",
    "\n",
    "print(syrtis_image)"
   ]
  },
  {
   "cell_type": "markdown",
   "metadata": {},
   "source": [
    "### Valles Marineris Hemisphere"
   ]
  },
  {
   "cell_type": "code",
   "execution_count": 54,
   "metadata": {},
   "outputs": [],
   "source": [
    "valles_main_url = 'https://astrogeology.usgs.gov/search/map/Mars/Viking/valles_marineris_enhanced'\n",
    "browser.visit(valles_main_url)"
   ]
  },
  {
   "cell_type": "code",
   "execution_count": 55,
   "metadata": {},
   "outputs": [],
   "source": [
    "htmlvalles = browser.html\n",
    "valles_soup = bs(htmlvalles, 'html.parser')"
   ]
  },
  {
   "cell_type": "code",
   "execution_count": 56,
   "metadata": {},
   "outputs": [
    {
     "name": "stdout",
     "output_type": "stream",
     "text": [
      "http://astropedia.astrogeology.usgs.gov/download/Mars/Viking/valles_marineris_enhanced.tif/full.jpg\n"
     ]
    }
   ],
   "source": [
    "valles_url = valles_soup.find('div', class_='downloads')\n",
    "valles_link = valles_url.find('a')\n",
    "valles_image = valles_link['href']\n",
    "\n",
    "print(valles_image)"
   ]
  },
  {
   "cell_type": "markdown",
   "metadata": {},
   "source": [
    "###  List of dictionaries of each hemisphere"
   ]
  },
  {
   "cell_type": "code",
   "execution_count": 58,
   "metadata": {},
   "outputs": [
    {
     "data": {
      "text/plain": [
       "[{'title': 'Cerberus Hemisphere',\n",
       "  'img_url': 'http://astropedia.astrogeology.usgs.gov/download/Mars/Viking/cerberus_enhanced.tif/full.jpg'},\n",
       " {'title': 'Schiaparelli Hemisphere',\n",
       "  'img_url': 'http://astropedia.astrogeology.usgs.gov/download/Mars/Viking/schiaparelli_enhanced.tif/full.jpg'},\n",
       " {'title': 'Syrtis Major Hemisphere',\n",
       "  'img_url': 'http://astropedia.astrogeology.usgs.gov/download/Mars/Viking/syrtis_major_enhanced.tif/full.jpg'},\n",
       " {'title': 'Valles Marineris Hemisphere',\n",
       "  'img_url': 'http://astropedia.astrogeology.usgs.gov/download/Mars/Viking/valles_marineris_enhanced.tif/full.jpg'}]"
      ]
     },
     "execution_count": 58,
     "metadata": {},
     "output_type": "execute_result"
    }
   ],
   "source": [
    "hemispheres_dict = [\n",
    "    {\"title\": \"Cerberus Hemisphere\", \"img_url\": cerebrus_image},\n",
    "    {\"title\": \"Schiaparelli Hemisphere\", \"img_url\": schiaparelli_image},\n",
    "    {\"title\": \"Syrtis Major Hemisphere\", \"img_url\": syrtis_image},\n",
    "    {\"title\": \"Valles Marineris Hemisphere\", \"img_url\": valles_image}]\n",
    "\n",
    "hemispheres_dict"
   ]
  }
 ],
 "metadata": {
  "kernelspec": {
   "display_name": "Python 3",
   "language": "python",
   "name": "python3"
  },
  "language_info": {
   "codemirror_mode": {
    "name": "ipython",
    "version": 3
   },
   "file_extension": ".py",
   "mimetype": "text/x-python",
   "name": "python",
   "nbconvert_exporter": "python",
   "pygments_lexer": "ipython3",
   "version": "3.6.9"
  }
 },
 "nbformat": 4,
 "nbformat_minor": 2
}
